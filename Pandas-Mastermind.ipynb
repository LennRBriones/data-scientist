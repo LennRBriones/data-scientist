{
 "cells": [
  {
   "cell_type": "code",
   "execution_count": 1,
   "id": "d0bb2e81",
   "metadata": {},
   "outputs": [],
   "source": [
    "import pandas as pd\n",
    "import numpy as np"
   ]
  },
  {
   "cell_type": "markdown",
   "id": "a44d2cfd",
   "metadata": {},
   "source": [
    "# Creando un DataFrame"
   ]
  },
  {
   "cell_type": "code",
   "execution_count": 2,
   "id": "14d9f2af",
   "metadata": {},
   "outputs": [],
   "source": [
    "df = pd.read_csv('../Mastermind/mastermind.csv') #Por temas de doocumentación se asocia df a dataframe"
   ]
  },
  {
   "cell_type": "code",
   "execution_count": 4,
   "id": "4fe78c6a",
   "metadata": {},
   "outputs": [
    {
     "data": {
      "text/html": [
       "<div>\n",
       "<style scoped>\n",
       "    .dataframe tbody tr th:only-of-type {\n",
       "        vertical-align: middle;\n",
       "    }\n",
       "\n",
       "    .dataframe tbody tr th {\n",
       "        vertical-align: top;\n",
       "    }\n",
       "\n",
       "    .dataframe thead th {\n",
       "        text-align: right;\n",
       "    }\n",
       "</style>\n",
       "<table border=\"1\" class=\"dataframe\">\n",
       "  <thead>\n",
       "    <tr style=\"text-align: right;\">\n",
       "      <th></th>\n",
       "      <th>Unnamed: 0</th>\n",
       "      <th>nombre</th>\n",
       "      <th>especialidad</th>\n",
       "      <th>edad</th>\n",
       "      <th>visitas</th>\n",
       "      <th>sexo</th>\n",
       "    </tr>\n",
       "  </thead>\n",
       "  <tbody>\n",
       "    <tr>\n",
       "      <th>0</th>\n",
       "      <td>0</td>\n",
       "      <td>SFDX Show</td>\n",
       "      <td>Hardware</td>\n",
       "      <td>30</td>\n",
       "      <td>130855</td>\n",
       "      <td>H</td>\n",
       "    </tr>\n",
       "    <tr>\n",
       "      <th>1</th>\n",
       "      <td>1</td>\n",
       "      <td>Sara Nogark</td>\n",
       "      <td>Edición de vídeo</td>\n",
       "      <td>29</td>\n",
       "      <td>114175</td>\n",
       "      <td>M</td>\n",
       "    </tr>\n",
       "    <tr>\n",
       "      <th>2</th>\n",
       "      <td>2</td>\n",
       "      <td>Nate Gentile</td>\n",
       "      <td>Programación</td>\n",
       "      <td>31</td>\n",
       "      <td>142545</td>\n",
       "      <td>H</td>\n",
       "    </tr>\n",
       "    <tr>\n",
       "      <th>3</th>\n",
       "      <td>3</td>\n",
       "      <td>Bettatech</td>\n",
       "      <td>Programación</td>\n",
       "      <td>31</td>\n",
       "      <td>149462</td>\n",
       "      <td>H</td>\n",
       "    </tr>\n",
       "    <tr>\n",
       "      <th>4</th>\n",
       "      <td>4</td>\n",
       "      <td>Antonio Sarosi</td>\n",
       "      <td>Sistemas Operativos</td>\n",
       "      <td>28</td>\n",
       "      <td>132008</td>\n",
       "      <td>H</td>\n",
       "    </tr>\n",
       "    <tr>\n",
       "      <th>5</th>\n",
       "      <td>5</td>\n",
       "      <td>Edgar Pons</td>\n",
       "      <td>Robótica</td>\n",
       "      <td>29</td>\n",
       "      <td>143620</td>\n",
       "      <td>H</td>\n",
       "    </tr>\n",
       "    <tr>\n",
       "      <th>6</th>\n",
       "      <td>6</td>\n",
       "      <td>s4vitar</td>\n",
       "      <td>Hacking</td>\n",
       "      <td>28</td>\n",
       "      <td>132567</td>\n",
       "      <td>H</td>\n",
       "    </tr>\n",
       "  </tbody>\n",
       "</table>\n",
       "</div>"
      ],
      "text/plain": [
       "   Unnamed: 0          nombre         especialidad  edad  visitas sexo\n",
       "0           0       SFDX Show             Hardware    30   130855    H\n",
       "1           1     Sara Nogark     Edición de vídeo    29   114175    M\n",
       "2           2    Nate Gentile         Programación    31   142545    H\n",
       "3           3       Bettatech         Programación    31   149462    H\n",
       "4           4  Antonio Sarosi  Sistemas Operativos    28   132008    H\n",
       "5           5      Edgar Pons             Robótica    29   143620    H\n",
       "6           6         s4vitar              Hacking    28   132567    H"
      ]
     },
     "execution_count": 4,
     "metadata": {},
     "output_type": "execute_result"
    }
   ],
   "source": [
    "df"
   ]
  },
  {
   "cell_type": "markdown",
   "id": "0f45faff",
   "metadata": {},
   "source": [
    "Como podemos ver, nos genera por defecto una columna al principio de la izquierda pero nosotros ya contamos en el caso de este dataset csv con una columna indice, así que le podemos indicar cual queremos que sea el indice de la siguiente manera:"
   ]
  },
  {
   "cell_type": "code",
   "execution_count": 4,
   "id": "298ab43d",
   "metadata": {},
   "outputs": [],
   "source": [
    "df = pd.read_csv('../Mastermind/mastermind.csv', index_col=[0]) \n",
    "# aquí al indicarle el 0, le tratamos de decir que agarre la primera columna\n",
    "#Otra manera sería con nombre de la columna, un ejemplo es este:\n",
    "\n",
    "# df = pd.read_csv('../Mastermind/mastermind.csv', index_col=\"nombre\") "
   ]
  },
  {
   "cell_type": "code",
   "execution_count": 5,
   "id": "cc0a74b1",
   "metadata": {},
   "outputs": [
    {
     "data": {
      "text/html": [
       "<div>\n",
       "<style scoped>\n",
       "    .dataframe tbody tr th:only-of-type {\n",
       "        vertical-align: middle;\n",
       "    }\n",
       "\n",
       "    .dataframe tbody tr th {\n",
       "        vertical-align: top;\n",
       "    }\n",
       "\n",
       "    .dataframe thead th {\n",
       "        text-align: right;\n",
       "    }\n",
       "</style>\n",
       "<table border=\"1\" class=\"dataframe\">\n",
       "  <thead>\n",
       "    <tr style=\"text-align: right;\">\n",
       "      <th></th>\n",
       "      <th>nombre</th>\n",
       "      <th>especialidad</th>\n",
       "      <th>edad</th>\n",
       "      <th>visitas</th>\n",
       "      <th>sexo</th>\n",
       "    </tr>\n",
       "  </thead>\n",
       "  <tbody>\n",
       "    <tr>\n",
       "      <th>0</th>\n",
       "      <td>SFDX Show</td>\n",
       "      <td>Hardware</td>\n",
       "      <td>30</td>\n",
       "      <td>130855</td>\n",
       "      <td>H</td>\n",
       "    </tr>\n",
       "    <tr>\n",
       "      <th>1</th>\n",
       "      <td>Sara Nogark</td>\n",
       "      <td>Edición de vídeo</td>\n",
       "      <td>29</td>\n",
       "      <td>114175</td>\n",
       "      <td>M</td>\n",
       "    </tr>\n",
       "    <tr>\n",
       "      <th>2</th>\n",
       "      <td>Nate Gentile</td>\n",
       "      <td>Programación</td>\n",
       "      <td>31</td>\n",
       "      <td>142545</td>\n",
       "      <td>H</td>\n",
       "    </tr>\n",
       "    <tr>\n",
       "      <th>3</th>\n",
       "      <td>Bettatech</td>\n",
       "      <td>Programación</td>\n",
       "      <td>31</td>\n",
       "      <td>149462</td>\n",
       "      <td>H</td>\n",
       "    </tr>\n",
       "    <tr>\n",
       "      <th>4</th>\n",
       "      <td>Antonio Sarosi</td>\n",
       "      <td>Sistemas Operativos</td>\n",
       "      <td>28</td>\n",
       "      <td>132008</td>\n",
       "      <td>H</td>\n",
       "    </tr>\n",
       "    <tr>\n",
       "      <th>5</th>\n",
       "      <td>Edgar Pons</td>\n",
       "      <td>Robótica</td>\n",
       "      <td>29</td>\n",
       "      <td>143620</td>\n",
       "      <td>H</td>\n",
       "    </tr>\n",
       "    <tr>\n",
       "      <th>6</th>\n",
       "      <td>s4vitar</td>\n",
       "      <td>Hacking</td>\n",
       "      <td>28</td>\n",
       "      <td>132567</td>\n",
       "      <td>H</td>\n",
       "    </tr>\n",
       "  </tbody>\n",
       "</table>\n",
       "</div>"
      ],
      "text/plain": [
       "           nombre         especialidad  edad  visitas sexo\n",
       "0       SFDX Show             Hardware    30   130855    H\n",
       "1     Sara Nogark     Edición de vídeo    29   114175    M\n",
       "2    Nate Gentile         Programación    31   142545    H\n",
       "3       Bettatech         Programación    31   149462    H\n",
       "4  Antonio Sarosi  Sistemas Operativos    28   132008    H\n",
       "5      Edgar Pons             Robótica    29   143620    H\n",
       "6         s4vitar              Hacking    28   132567    H"
      ]
     },
     "execution_count": 5,
     "metadata": {},
     "output_type": "execute_result"
    }
   ],
   "source": [
    "df"
   ]
  },
  {
   "cell_type": "markdown",
   "id": "c9c92bbd",
   "metadata": {},
   "source": [
    " Pandas asocia cada columna como un array, por ende podemos manipularlas y acceder a ellas"
   ]
  },
  {
   "cell_type": "code",
   "execution_count": 36,
   "id": "a3c87472",
   "metadata": {},
   "outputs": [
    {
     "data": {
      "text/plain": [
       "0               Hardware\n",
       "1       Edición de vídeo\n",
       "2           Programación\n",
       "3           Programación\n",
       "4    Sistemas Operativos\n",
       "5               Robótica\n",
       "6                Hacking\n",
       "Name: especialidad, dtype: object"
      ]
     },
     "execution_count": 36,
     "metadata": {},
     "output_type": "execute_result"
    }
   ],
   "source": [
    "df[\"especialidad\"]"
   ]
  },
  {
   "cell_type": "markdown",
   "id": "554186ea",
   "metadata": {},
   "source": [
    "Aquí podemos ver que el tipo de la columna a como está asociada a panda"
   ]
  },
  {
   "cell_type": "code",
   "execution_count": 37,
   "id": "04dbecd3",
   "metadata": {},
   "outputs": [
    {
     "data": {
      "text/plain": [
       "pandas.core.series.Series"
      ]
     },
     "execution_count": 37,
     "metadata": {},
     "output_type": "execute_result"
    }
   ],
   "source": [
    "type(df[\"especialidad\"])"
   ]
  },
  {
   "cell_type": "markdown",
   "id": "caf446bb",
   "metadata": {},
   "source": [
    "Desde un diccionario"
   ]
  },
  {
   "cell_type": "markdown",
   "id": "a459c56b",
   "metadata": {},
   "source": [
    "Aquí estamos poniendolo como lista para ver cómo mostrar la lista directa, no como arriba con el puro data"
   ]
  },
  {
   "cell_type": "code",
   "execution_count": 38,
   "id": "50a89949",
   "metadata": {},
   "outputs": [
    {
     "data": {
      "text/plain": [
       "['Hardware',\n",
       " 'Edición de vídeo',\n",
       " 'Programación',\n",
       " 'Programación',\n",
       " 'Sistemas Operativos',\n",
       " 'Robótica',\n",
       " 'Hacking']"
      ]
     },
     "execution_count": 38,
     "metadata": {},
     "output_type": "execute_result"
    }
   ],
   "source": [
    "list(df[\"especialidad\"])"
   ]
  },
  {
   "cell_type": "code",
   "execution_count": 39,
   "id": "f4d474b4",
   "metadata": {},
   "outputs": [
    {
     "data": {
      "text/plain": [
       "7"
      ]
     },
     "execution_count": 39,
     "metadata": {},
     "output_type": "execute_result"
    }
   ],
   "source": [
    "#recuerda que puedes saber lo largo con len\n",
    "len(list(df[\"especialidad\"]))"
   ]
  },
  {
   "cell_type": "code",
   "execution_count": 40,
   "id": "31374872",
   "metadata": {},
   "outputs": [],
   "source": [
    "datos = {\"nombre\": [\"SDFX Show\", \"Sara Nogark\", \"Nate Gentille\", \"Bettatech\", \"Antonio Sarosi\", \"Edfar Pons\",\n",
    "        \"s4vitar\"],\n",
    "         \"especialidad\": list(df[\"especialidad\"]),\n",
    "         \"edad\": [np.random.randint(28, 31) for i in range(len(df[\"nombre\"]))],\n",
    "         \"visitas\": [np.random.randint(100000, 150000) for i in range(len(df[\"nombre\"]))]\n",
    "        }\n"
   ]
  },
  {
   "cell_type": "code",
   "execution_count": 41,
   "id": "e2127e2e",
   "metadata": {},
   "outputs": [],
   "source": [
    "df_inventado = pd.DataFrame(datos)\n",
    "#Aquí andamos asignando esos datos desde un diccionario como data frame"
   ]
  },
  {
   "cell_type": "code",
   "execution_count": 42,
   "id": "4c486ad6",
   "metadata": {},
   "outputs": [
    {
     "data": {
      "text/html": [
       "<div>\n",
       "<style scoped>\n",
       "    .dataframe tbody tr th:only-of-type {\n",
       "        vertical-align: middle;\n",
       "    }\n",
       "\n",
       "    .dataframe tbody tr th {\n",
       "        vertical-align: top;\n",
       "    }\n",
       "\n",
       "    .dataframe thead th {\n",
       "        text-align: right;\n",
       "    }\n",
       "</style>\n",
       "<table border=\"1\" class=\"dataframe\">\n",
       "  <thead>\n",
       "    <tr style=\"text-align: right;\">\n",
       "      <th></th>\n",
       "      <th>nombre</th>\n",
       "      <th>especialidad</th>\n",
       "      <th>edad</th>\n",
       "      <th>visitas</th>\n",
       "    </tr>\n",
       "  </thead>\n",
       "  <tbody>\n",
       "    <tr>\n",
       "      <th>0</th>\n",
       "      <td>SDFX Show</td>\n",
       "      <td>Hardware</td>\n",
       "      <td>30</td>\n",
       "      <td>107947</td>\n",
       "    </tr>\n",
       "    <tr>\n",
       "      <th>1</th>\n",
       "      <td>Sara Nogark</td>\n",
       "      <td>Edición de vídeo</td>\n",
       "      <td>28</td>\n",
       "      <td>148880</td>\n",
       "    </tr>\n",
       "    <tr>\n",
       "      <th>2</th>\n",
       "      <td>Nate Gentille</td>\n",
       "      <td>Programación</td>\n",
       "      <td>30</td>\n",
       "      <td>143192</td>\n",
       "    </tr>\n",
       "    <tr>\n",
       "      <th>3</th>\n",
       "      <td>Bettatech</td>\n",
       "      <td>Programación</td>\n",
       "      <td>29</td>\n",
       "      <td>141575</td>\n",
       "    </tr>\n",
       "    <tr>\n",
       "      <th>4</th>\n",
       "      <td>Antonio Sarosi</td>\n",
       "      <td>Sistemas Operativos</td>\n",
       "      <td>28</td>\n",
       "      <td>105647</td>\n",
       "    </tr>\n",
       "    <tr>\n",
       "      <th>5</th>\n",
       "      <td>Edfar Pons</td>\n",
       "      <td>Robótica</td>\n",
       "      <td>28</td>\n",
       "      <td>138027</td>\n",
       "    </tr>\n",
       "    <tr>\n",
       "      <th>6</th>\n",
       "      <td>s4vitar</td>\n",
       "      <td>Hacking</td>\n",
       "      <td>28</td>\n",
       "      <td>137135</td>\n",
       "    </tr>\n",
       "  </tbody>\n",
       "</table>\n",
       "</div>"
      ],
      "text/plain": [
       "           nombre         especialidad  edad  visitas\n",
       "0       SDFX Show             Hardware    30   107947\n",
       "1     Sara Nogark     Edición de vídeo    28   148880\n",
       "2   Nate Gentille         Programación    30   143192\n",
       "3       Bettatech         Programación    29   141575\n",
       "4  Antonio Sarosi  Sistemas Operativos    28   105647\n",
       "5      Edfar Pons             Robótica    28   138027\n",
       "6         s4vitar              Hacking    28   137135"
      ]
     },
     "execution_count": 42,
     "metadata": {},
     "output_type": "execute_result"
    }
   ],
   "source": [
    "df_inventado"
   ]
  },
  {
   "cell_type": "code",
   "execution_count": 43,
   "id": "c9d7f331",
   "metadata": {},
   "outputs": [],
   "source": [
    "df_inventado[\"sexo\"] = [\"H\", \"M\", \"H\", \"H\", \"H\", \"H\", \"H\"]"
   ]
  },
  {
   "cell_type": "code",
   "execution_count": 44,
   "id": "d702bec7",
   "metadata": {},
   "outputs": [
    {
     "data": {
      "text/html": [
       "<div>\n",
       "<style scoped>\n",
       "    .dataframe tbody tr th:only-of-type {\n",
       "        vertical-align: middle;\n",
       "    }\n",
       "\n",
       "    .dataframe tbody tr th {\n",
       "        vertical-align: top;\n",
       "    }\n",
       "\n",
       "    .dataframe thead th {\n",
       "        text-align: right;\n",
       "    }\n",
       "</style>\n",
       "<table border=\"1\" class=\"dataframe\">\n",
       "  <thead>\n",
       "    <tr style=\"text-align: right;\">\n",
       "      <th></th>\n",
       "      <th>nombre</th>\n",
       "      <th>especialidad</th>\n",
       "      <th>edad</th>\n",
       "      <th>visitas</th>\n",
       "      <th>sexo</th>\n",
       "    </tr>\n",
       "  </thead>\n",
       "  <tbody>\n",
       "    <tr>\n",
       "      <th>0</th>\n",
       "      <td>SDFX Show</td>\n",
       "      <td>Hardware</td>\n",
       "      <td>30</td>\n",
       "      <td>107947</td>\n",
       "      <td>H</td>\n",
       "    </tr>\n",
       "    <tr>\n",
       "      <th>1</th>\n",
       "      <td>Sara Nogark</td>\n",
       "      <td>Edición de vídeo</td>\n",
       "      <td>28</td>\n",
       "      <td>148880</td>\n",
       "      <td>M</td>\n",
       "    </tr>\n",
       "    <tr>\n",
       "      <th>2</th>\n",
       "      <td>Nate Gentille</td>\n",
       "      <td>Programación</td>\n",
       "      <td>30</td>\n",
       "      <td>143192</td>\n",
       "      <td>H</td>\n",
       "    </tr>\n",
       "    <tr>\n",
       "      <th>3</th>\n",
       "      <td>Bettatech</td>\n",
       "      <td>Programación</td>\n",
       "      <td>29</td>\n",
       "      <td>141575</td>\n",
       "      <td>H</td>\n",
       "    </tr>\n",
       "    <tr>\n",
       "      <th>4</th>\n",
       "      <td>Antonio Sarosi</td>\n",
       "      <td>Sistemas Operativos</td>\n",
       "      <td>28</td>\n",
       "      <td>105647</td>\n",
       "      <td>H</td>\n",
       "    </tr>\n",
       "    <tr>\n",
       "      <th>5</th>\n",
       "      <td>Edfar Pons</td>\n",
       "      <td>Robótica</td>\n",
       "      <td>28</td>\n",
       "      <td>138027</td>\n",
       "      <td>H</td>\n",
       "    </tr>\n",
       "    <tr>\n",
       "      <th>6</th>\n",
       "      <td>s4vitar</td>\n",
       "      <td>Hacking</td>\n",
       "      <td>28</td>\n",
       "      <td>137135</td>\n",
       "      <td>H</td>\n",
       "    </tr>\n",
       "  </tbody>\n",
       "</table>\n",
       "</div>"
      ],
      "text/plain": [
       "           nombre         especialidad  edad  visitas sexo\n",
       "0       SDFX Show             Hardware    30   107947    H\n",
       "1     Sara Nogark     Edición de vídeo    28   148880    M\n",
       "2   Nate Gentille         Programación    30   143192    H\n",
       "3       Bettatech         Programación    29   141575    H\n",
       "4  Antonio Sarosi  Sistemas Operativos    28   105647    H\n",
       "5      Edfar Pons             Robótica    28   138027    H\n",
       "6         s4vitar              Hacking    28   137135    H"
      ]
     },
     "execution_count": 44,
     "metadata": {},
     "output_type": "execute_result"
    }
   ],
   "source": [
    "df_inventado"
   ]
  },
  {
   "cell_type": "markdown",
   "id": "ca503c2e",
   "metadata": {},
   "source": [
    "Como vimos, pudimos añadirle una columna aparte nosotros al data frame ya creado"
   ]
  },
  {
   "cell_type": "markdown",
   "id": "fd282b2d",
   "metadata": {},
   "source": [
    "# Explorando un DataFrame"
   ]
  },
  {
   "cell_type": "code",
   "execution_count": 45,
   "id": "27f0440f",
   "metadata": {},
   "outputs": [
    {
     "data": {
      "text/html": [
       "<div>\n",
       "<style scoped>\n",
       "    .dataframe tbody tr th:only-of-type {\n",
       "        vertical-align: middle;\n",
       "    }\n",
       "\n",
       "    .dataframe tbody tr th {\n",
       "        vertical-align: top;\n",
       "    }\n",
       "\n",
       "    .dataframe thead th {\n",
       "        text-align: right;\n",
       "    }\n",
       "</style>\n",
       "<table border=\"1\" class=\"dataframe\">\n",
       "  <thead>\n",
       "    <tr style=\"text-align: right;\">\n",
       "      <th></th>\n",
       "      <th>nombre</th>\n",
       "      <th>especialidad</th>\n",
       "      <th>edad</th>\n",
       "      <th>visitas</th>\n",
       "      <th>sexo</th>\n",
       "    </tr>\n",
       "  </thead>\n",
       "  <tbody>\n",
       "    <tr>\n",
       "      <th>0</th>\n",
       "      <td>SFDX Show</td>\n",
       "      <td>Hardware</td>\n",
       "      <td>30</td>\n",
       "      <td>130855</td>\n",
       "      <td>H</td>\n",
       "    </tr>\n",
       "    <tr>\n",
       "      <th>1</th>\n",
       "      <td>Sara Nogark</td>\n",
       "      <td>Edición de vídeo</td>\n",
       "      <td>29</td>\n",
       "      <td>114175</td>\n",
       "      <td>M</td>\n",
       "    </tr>\n",
       "    <tr>\n",
       "      <th>2</th>\n",
       "      <td>Nate Gentile</td>\n",
       "      <td>Programación</td>\n",
       "      <td>31</td>\n",
       "      <td>142545</td>\n",
       "      <td>H</td>\n",
       "    </tr>\n",
       "    <tr>\n",
       "      <th>3</th>\n",
       "      <td>Bettatech</td>\n",
       "      <td>Programación</td>\n",
       "      <td>31</td>\n",
       "      <td>149462</td>\n",
       "      <td>H</td>\n",
       "    </tr>\n",
       "    <tr>\n",
       "      <th>4</th>\n",
       "      <td>Antonio Sarosi</td>\n",
       "      <td>Sistemas Operativos</td>\n",
       "      <td>28</td>\n",
       "      <td>132008</td>\n",
       "      <td>H</td>\n",
       "    </tr>\n",
       "    <tr>\n",
       "      <th>5</th>\n",
       "      <td>Edgar Pons</td>\n",
       "      <td>Robótica</td>\n",
       "      <td>29</td>\n",
       "      <td>143620</td>\n",
       "      <td>H</td>\n",
       "    </tr>\n",
       "    <tr>\n",
       "      <th>6</th>\n",
       "      <td>s4vitar</td>\n",
       "      <td>Hacking</td>\n",
       "      <td>28</td>\n",
       "      <td>132567</td>\n",
       "      <td>H</td>\n",
       "    </tr>\n",
       "  </tbody>\n",
       "</table>\n",
       "</div>"
      ],
      "text/plain": [
       "           nombre         especialidad  edad  visitas sexo\n",
       "0       SFDX Show             Hardware    30   130855    H\n",
       "1     Sara Nogark     Edición de vídeo    29   114175    M\n",
       "2    Nate Gentile         Programación    31   142545    H\n",
       "3       Bettatech         Programación    31   149462    H\n",
       "4  Antonio Sarosi  Sistemas Operativos    28   132008    H\n",
       "5      Edgar Pons             Robótica    29   143620    H\n",
       "6         s4vitar              Hacking    28   132567    H"
      ]
     },
     "execution_count": 45,
     "metadata": {},
     "output_type": "execute_result"
    }
   ],
   "source": [
    "df"
   ]
  },
  {
   "cell_type": "markdown",
   "id": "4e11bc06",
   "metadata": {},
   "source": [
    "## df.head()"
   ]
  },
  {
   "cell_type": "markdown",
   "id": "f3bdb38c",
   "metadata": {},
   "source": [
    "Este nos trae los primeros valores, podemos igual indicarle cuantos queremos"
   ]
  },
  {
   "cell_type": "code",
   "execution_count": 46,
   "id": "b152f22f",
   "metadata": {},
   "outputs": [
    {
     "data": {
      "text/html": [
       "<div>\n",
       "<style scoped>\n",
       "    .dataframe tbody tr th:only-of-type {\n",
       "        vertical-align: middle;\n",
       "    }\n",
       "\n",
       "    .dataframe tbody tr th {\n",
       "        vertical-align: top;\n",
       "    }\n",
       "\n",
       "    .dataframe thead th {\n",
       "        text-align: right;\n",
       "    }\n",
       "</style>\n",
       "<table border=\"1\" class=\"dataframe\">\n",
       "  <thead>\n",
       "    <tr style=\"text-align: right;\">\n",
       "      <th></th>\n",
       "      <th>nombre</th>\n",
       "      <th>especialidad</th>\n",
       "      <th>edad</th>\n",
       "      <th>visitas</th>\n",
       "      <th>sexo</th>\n",
       "    </tr>\n",
       "  </thead>\n",
       "  <tbody>\n",
       "    <tr>\n",
       "      <th>0</th>\n",
       "      <td>SFDX Show</td>\n",
       "      <td>Hardware</td>\n",
       "      <td>30</td>\n",
       "      <td>130855</td>\n",
       "      <td>H</td>\n",
       "    </tr>\n",
       "    <tr>\n",
       "      <th>1</th>\n",
       "      <td>Sara Nogark</td>\n",
       "      <td>Edición de vídeo</td>\n",
       "      <td>29</td>\n",
       "      <td>114175</td>\n",
       "      <td>M</td>\n",
       "    </tr>\n",
       "    <tr>\n",
       "      <th>2</th>\n",
       "      <td>Nate Gentile</td>\n",
       "      <td>Programación</td>\n",
       "      <td>31</td>\n",
       "      <td>142545</td>\n",
       "      <td>H</td>\n",
       "    </tr>\n",
       "    <tr>\n",
       "      <th>3</th>\n",
       "      <td>Bettatech</td>\n",
       "      <td>Programación</td>\n",
       "      <td>31</td>\n",
       "      <td>149462</td>\n",
       "      <td>H</td>\n",
       "    </tr>\n",
       "    <tr>\n",
       "      <th>4</th>\n",
       "      <td>Antonio Sarosi</td>\n",
       "      <td>Sistemas Operativos</td>\n",
       "      <td>28</td>\n",
       "      <td>132008</td>\n",
       "      <td>H</td>\n",
       "    </tr>\n",
       "  </tbody>\n",
       "</table>\n",
       "</div>"
      ],
      "text/plain": [
       "           nombre         especialidad  edad  visitas sexo\n",
       "0       SFDX Show             Hardware    30   130855    H\n",
       "1     Sara Nogark     Edición de vídeo    29   114175    M\n",
       "2    Nate Gentile         Programación    31   142545    H\n",
       "3       Bettatech         Programación    31   149462    H\n",
       "4  Antonio Sarosi  Sistemas Operativos    28   132008    H"
      ]
     },
     "execution_count": 46,
     "metadata": {},
     "output_type": "execute_result"
    }
   ],
   "source": [
    "df.head()"
   ]
  },
  {
   "cell_type": "code",
   "execution_count": 47,
   "id": "af68a8be",
   "metadata": {},
   "outputs": [
    {
     "data": {
      "text/html": [
       "<div>\n",
       "<style scoped>\n",
       "    .dataframe tbody tr th:only-of-type {\n",
       "        vertical-align: middle;\n",
       "    }\n",
       "\n",
       "    .dataframe tbody tr th {\n",
       "        vertical-align: top;\n",
       "    }\n",
       "\n",
       "    .dataframe thead th {\n",
       "        text-align: right;\n",
       "    }\n",
       "</style>\n",
       "<table border=\"1\" class=\"dataframe\">\n",
       "  <thead>\n",
       "    <tr style=\"text-align: right;\">\n",
       "      <th></th>\n",
       "      <th>nombre</th>\n",
       "      <th>especialidad</th>\n",
       "      <th>edad</th>\n",
       "      <th>visitas</th>\n",
       "      <th>sexo</th>\n",
       "    </tr>\n",
       "  </thead>\n",
       "  <tbody>\n",
       "    <tr>\n",
       "      <th>0</th>\n",
       "      <td>SFDX Show</td>\n",
       "      <td>Hardware</td>\n",
       "      <td>30</td>\n",
       "      <td>130855</td>\n",
       "      <td>H</td>\n",
       "    </tr>\n",
       "    <tr>\n",
       "      <th>1</th>\n",
       "      <td>Sara Nogark</td>\n",
       "      <td>Edición de vídeo</td>\n",
       "      <td>29</td>\n",
       "      <td>114175</td>\n",
       "      <td>M</td>\n",
       "    </tr>\n",
       "  </tbody>\n",
       "</table>\n",
       "</div>"
      ],
      "text/plain": [
       "        nombre      especialidad  edad  visitas sexo\n",
       "0    SFDX Show          Hardware    30   130855    H\n",
       "1  Sara Nogark  Edición de vídeo    29   114175    M"
      ]
     },
     "execution_count": 47,
     "metadata": {},
     "output_type": "execute_result"
    }
   ],
   "source": [
    "df.head(2) "
   ]
  },
  {
   "cell_type": "markdown",
   "id": "37dfc320",
   "metadata": {},
   "source": [
    "## df.tail()"
   ]
  },
  {
   "cell_type": "markdown",
   "id": "2a1ff8b2",
   "metadata": {},
   "source": [
    "Este nos trae los ultimos valores, podemos igual indicarle cuantos queremos"
   ]
  },
  {
   "cell_type": "code",
   "execution_count": 48,
   "id": "afab8b18",
   "metadata": {},
   "outputs": [
    {
     "data": {
      "text/html": [
       "<div>\n",
       "<style scoped>\n",
       "    .dataframe tbody tr th:only-of-type {\n",
       "        vertical-align: middle;\n",
       "    }\n",
       "\n",
       "    .dataframe tbody tr th {\n",
       "        vertical-align: top;\n",
       "    }\n",
       "\n",
       "    .dataframe thead th {\n",
       "        text-align: right;\n",
       "    }\n",
       "</style>\n",
       "<table border=\"1\" class=\"dataframe\">\n",
       "  <thead>\n",
       "    <tr style=\"text-align: right;\">\n",
       "      <th></th>\n",
       "      <th>nombre</th>\n",
       "      <th>especialidad</th>\n",
       "      <th>edad</th>\n",
       "      <th>visitas</th>\n",
       "      <th>sexo</th>\n",
       "    </tr>\n",
       "  </thead>\n",
       "  <tbody>\n",
       "    <tr>\n",
       "      <th>2</th>\n",
       "      <td>Nate Gentile</td>\n",
       "      <td>Programación</td>\n",
       "      <td>31</td>\n",
       "      <td>142545</td>\n",
       "      <td>H</td>\n",
       "    </tr>\n",
       "    <tr>\n",
       "      <th>3</th>\n",
       "      <td>Bettatech</td>\n",
       "      <td>Programación</td>\n",
       "      <td>31</td>\n",
       "      <td>149462</td>\n",
       "      <td>H</td>\n",
       "    </tr>\n",
       "    <tr>\n",
       "      <th>4</th>\n",
       "      <td>Antonio Sarosi</td>\n",
       "      <td>Sistemas Operativos</td>\n",
       "      <td>28</td>\n",
       "      <td>132008</td>\n",
       "      <td>H</td>\n",
       "    </tr>\n",
       "    <tr>\n",
       "      <th>5</th>\n",
       "      <td>Edgar Pons</td>\n",
       "      <td>Robótica</td>\n",
       "      <td>29</td>\n",
       "      <td>143620</td>\n",
       "      <td>H</td>\n",
       "    </tr>\n",
       "    <tr>\n",
       "      <th>6</th>\n",
       "      <td>s4vitar</td>\n",
       "      <td>Hacking</td>\n",
       "      <td>28</td>\n",
       "      <td>132567</td>\n",
       "      <td>H</td>\n",
       "    </tr>\n",
       "  </tbody>\n",
       "</table>\n",
       "</div>"
      ],
      "text/plain": [
       "           nombre         especialidad  edad  visitas sexo\n",
       "2    Nate Gentile         Programación    31   142545    H\n",
       "3       Bettatech         Programación    31   149462    H\n",
       "4  Antonio Sarosi  Sistemas Operativos    28   132008    H\n",
       "5      Edgar Pons             Robótica    29   143620    H\n",
       "6         s4vitar              Hacking    28   132567    H"
      ]
     },
     "execution_count": 48,
     "metadata": {},
     "output_type": "execute_result"
    }
   ],
   "source": [
    "df.tail()"
   ]
  },
  {
   "cell_type": "code",
   "execution_count": 49,
   "id": "95aa439f",
   "metadata": {},
   "outputs": [
    {
     "data": {
      "text/html": [
       "<div>\n",
       "<style scoped>\n",
       "    .dataframe tbody tr th:only-of-type {\n",
       "        vertical-align: middle;\n",
       "    }\n",
       "\n",
       "    .dataframe tbody tr th {\n",
       "        vertical-align: top;\n",
       "    }\n",
       "\n",
       "    .dataframe thead th {\n",
       "        text-align: right;\n",
       "    }\n",
       "</style>\n",
       "<table border=\"1\" class=\"dataframe\">\n",
       "  <thead>\n",
       "    <tr style=\"text-align: right;\">\n",
       "      <th></th>\n",
       "      <th>nombre</th>\n",
       "      <th>especialidad</th>\n",
       "      <th>edad</th>\n",
       "      <th>visitas</th>\n",
       "      <th>sexo</th>\n",
       "    </tr>\n",
       "  </thead>\n",
       "  <tbody>\n",
       "    <tr>\n",
       "      <th>5</th>\n",
       "      <td>Edgar Pons</td>\n",
       "      <td>Robótica</td>\n",
       "      <td>29</td>\n",
       "      <td>143620</td>\n",
       "      <td>H</td>\n",
       "    </tr>\n",
       "    <tr>\n",
       "      <th>6</th>\n",
       "      <td>s4vitar</td>\n",
       "      <td>Hacking</td>\n",
       "      <td>28</td>\n",
       "      <td>132567</td>\n",
       "      <td>H</td>\n",
       "    </tr>\n",
       "  </tbody>\n",
       "</table>\n",
       "</div>"
      ],
      "text/plain": [
       "       nombre especialidad  edad  visitas sexo\n",
       "5  Edgar Pons     Robótica    29   143620    H\n",
       "6     s4vitar      Hacking    28   132567    H"
      ]
     },
     "execution_count": 49,
     "metadata": {},
     "output_type": "execute_result"
    }
   ],
   "source": [
    "df.tail(2) "
   ]
  },
  {
   "cell_type": "markdown",
   "id": "a1f82c43",
   "metadata": {},
   "source": [
    "## df.sample()"
   ]
  },
  {
   "cell_type": "markdown",
   "id": "fe4ceef0",
   "metadata": {},
   "source": [
    "Este nos trae un parametro de muestra, solo para ver cómo es la data, podemos igual indicarle cuantos queremos"
   ]
  },
  {
   "cell_type": "code",
   "execution_count": 50,
   "id": "168720e9",
   "metadata": {},
   "outputs": [
    {
     "data": {
      "text/html": [
       "<div>\n",
       "<style scoped>\n",
       "    .dataframe tbody tr th:only-of-type {\n",
       "        vertical-align: middle;\n",
       "    }\n",
       "\n",
       "    .dataframe tbody tr th {\n",
       "        vertical-align: top;\n",
       "    }\n",
       "\n",
       "    .dataframe thead th {\n",
       "        text-align: right;\n",
       "    }\n",
       "</style>\n",
       "<table border=\"1\" class=\"dataframe\">\n",
       "  <thead>\n",
       "    <tr style=\"text-align: right;\">\n",
       "      <th></th>\n",
       "      <th>nombre</th>\n",
       "      <th>especialidad</th>\n",
       "      <th>edad</th>\n",
       "      <th>visitas</th>\n",
       "      <th>sexo</th>\n",
       "    </tr>\n",
       "  </thead>\n",
       "  <tbody>\n",
       "    <tr>\n",
       "      <th>3</th>\n",
       "      <td>Bettatech</td>\n",
       "      <td>Programación</td>\n",
       "      <td>31</td>\n",
       "      <td>149462</td>\n",
       "      <td>H</td>\n",
       "    </tr>\n",
       "  </tbody>\n",
       "</table>\n",
       "</div>"
      ],
      "text/plain": [
       "      nombre  especialidad  edad  visitas sexo\n",
       "3  Bettatech  Programación    31   149462    H"
      ]
     },
     "execution_count": 50,
     "metadata": {},
     "output_type": "execute_result"
    }
   ],
   "source": [
    "df.sample()"
   ]
  },
  {
   "cell_type": "code",
   "execution_count": 51,
   "id": "79c82b84",
   "metadata": {
    "scrolled": true
   },
   "outputs": [
    {
     "data": {
      "text/html": [
       "<div>\n",
       "<style scoped>\n",
       "    .dataframe tbody tr th:only-of-type {\n",
       "        vertical-align: middle;\n",
       "    }\n",
       "\n",
       "    .dataframe tbody tr th {\n",
       "        vertical-align: top;\n",
       "    }\n",
       "\n",
       "    .dataframe thead th {\n",
       "        text-align: right;\n",
       "    }\n",
       "</style>\n",
       "<table border=\"1\" class=\"dataframe\">\n",
       "  <thead>\n",
       "    <tr style=\"text-align: right;\">\n",
       "      <th></th>\n",
       "      <th>nombre</th>\n",
       "      <th>especialidad</th>\n",
       "      <th>edad</th>\n",
       "      <th>visitas</th>\n",
       "      <th>sexo</th>\n",
       "    </tr>\n",
       "  </thead>\n",
       "  <tbody>\n",
       "    <tr>\n",
       "      <th>1</th>\n",
       "      <td>Sara Nogark</td>\n",
       "      <td>Edición de vídeo</td>\n",
       "      <td>29</td>\n",
       "      <td>114175</td>\n",
       "      <td>M</td>\n",
       "    </tr>\n",
       "    <tr>\n",
       "      <th>6</th>\n",
       "      <td>s4vitar</td>\n",
       "      <td>Hacking</td>\n",
       "      <td>28</td>\n",
       "      <td>132567</td>\n",
       "      <td>H</td>\n",
       "    </tr>\n",
       "  </tbody>\n",
       "</table>\n",
       "</div>"
      ],
      "text/plain": [
       "        nombre      especialidad  edad  visitas sexo\n",
       "1  Sara Nogark  Edición de vídeo    29   114175    M\n",
       "6      s4vitar           Hacking    28   132567    H"
      ]
     },
     "execution_count": 51,
     "metadata": {},
     "output_type": "execute_result"
    }
   ],
   "source": [
    "df.sample(2)"
   ]
  },
  {
   "cell_type": "markdown",
   "id": "3ba3de30",
   "metadata": {},
   "source": [
    "## df.info()"
   ]
  },
  {
   "cell_type": "markdown",
   "id": "4676f170",
   "metadata": {},
   "source": [
    "Nos da un resumen de nuestro dataset"
   ]
  },
  {
   "cell_type": "code",
   "execution_count": 52,
   "id": "fc914580",
   "metadata": {},
   "outputs": [
    {
     "name": "stdout",
     "output_type": "stream",
     "text": [
      "<class 'pandas.core.frame.DataFrame'>\n",
      "Int64Index: 7 entries, 0 to 6\n",
      "Data columns (total 5 columns):\n",
      " #   Column        Non-Null Count  Dtype \n",
      "---  ------        --------------  ----- \n",
      " 0   nombre        7 non-null      object\n",
      " 1   especialidad  7 non-null      object\n",
      " 2   edad          7 non-null      int64 \n",
      " 3   visitas       7 non-null      int64 \n",
      " 4   sexo          7 non-null      object\n",
      "dtypes: int64(2), object(3)\n",
      "memory usage: 336.0+ bytes\n"
     ]
    }
   ],
   "source": [
    "df.info()"
   ]
  },
  {
   "cell_type": "markdown",
   "id": "5ca8f5af",
   "metadata": {},
   "source": [
    "## df.describe()"
   ]
  },
  {
   "cell_type": "markdown",
   "id": "b0e77f54",
   "metadata": {},
   "source": [
    " Nos da info de de los valores numericos que tenemos"
   ]
  },
  {
   "cell_type": "code",
   "execution_count": 53,
   "id": "b650f1f8",
   "metadata": {},
   "outputs": [
    {
     "data": {
      "text/html": [
       "<div>\n",
       "<style scoped>\n",
       "    .dataframe tbody tr th:only-of-type {\n",
       "        vertical-align: middle;\n",
       "    }\n",
       "\n",
       "    .dataframe tbody tr th {\n",
       "        vertical-align: top;\n",
       "    }\n",
       "\n",
       "    .dataframe thead th {\n",
       "        text-align: right;\n",
       "    }\n",
       "</style>\n",
       "<table border=\"1\" class=\"dataframe\">\n",
       "  <thead>\n",
       "    <tr style=\"text-align: right;\">\n",
       "      <th></th>\n",
       "      <th>edad</th>\n",
       "      <th>visitas</th>\n",
       "    </tr>\n",
       "  </thead>\n",
       "  <tbody>\n",
       "    <tr>\n",
       "      <th>count</th>\n",
       "      <td>7.000000</td>\n",
       "      <td>7.000000</td>\n",
       "    </tr>\n",
       "    <tr>\n",
       "      <th>mean</th>\n",
       "      <td>29.428571</td>\n",
       "      <td>135033.142857</td>\n",
       "    </tr>\n",
       "    <tr>\n",
       "      <th>std</th>\n",
       "      <td>1.272418</td>\n",
       "      <td>11590.990631</td>\n",
       "    </tr>\n",
       "    <tr>\n",
       "      <th>min</th>\n",
       "      <td>28.000000</td>\n",
       "      <td>114175.000000</td>\n",
       "    </tr>\n",
       "    <tr>\n",
       "      <th>25%</th>\n",
       "      <td>28.500000</td>\n",
       "      <td>131431.500000</td>\n",
       "    </tr>\n",
       "    <tr>\n",
       "      <th>50%</th>\n",
       "      <td>29.000000</td>\n",
       "      <td>132567.000000</td>\n",
       "    </tr>\n",
       "    <tr>\n",
       "      <th>75%</th>\n",
       "      <td>30.500000</td>\n",
       "      <td>143082.500000</td>\n",
       "    </tr>\n",
       "    <tr>\n",
       "      <th>max</th>\n",
       "      <td>31.000000</td>\n",
       "      <td>149462.000000</td>\n",
       "    </tr>\n",
       "  </tbody>\n",
       "</table>\n",
       "</div>"
      ],
      "text/plain": [
       "            edad        visitas\n",
       "count   7.000000       7.000000\n",
       "mean   29.428571  135033.142857\n",
       "std     1.272418   11590.990631\n",
       "min    28.000000  114175.000000\n",
       "25%    28.500000  131431.500000\n",
       "50%    29.000000  132567.000000\n",
       "75%    30.500000  143082.500000\n",
       "max    31.000000  149462.000000"
      ]
     },
     "execution_count": 53,
     "metadata": {},
     "output_type": "execute_result"
    }
   ],
   "source": [
    "df.describe()"
   ]
  },
  {
   "cell_type": "markdown",
   "id": "72749c0e",
   "metadata": {},
   "source": [
    "Aquí podemos detallar en donde quiero que busque exactamente"
   ]
  },
  {
   "cell_type": "code",
   "execution_count": 54,
   "id": "bdd01172",
   "metadata": {},
   "outputs": [
    {
     "data": {
      "text/plain": [
       "31.0"
      ]
     },
     "execution_count": 54,
     "metadata": {},
     "output_type": "execute_result"
    }
   ],
   "source": [
    "df.describe()[\"edad\"][\"max\"]"
   ]
  },
  {
   "cell_type": "markdown",
   "id": "935475e1",
   "metadata": {},
   "source": [
    "## df.shape"
   ]
  },
  {
   "cell_type": "markdown",
   "id": "1e003225",
   "metadata": {},
   "source": [
    "Mostrandonos la forma del data frame"
   ]
  },
  {
   "cell_type": "code",
   "execution_count": 55,
   "id": "37fbd67b",
   "metadata": {},
   "outputs": [
    {
     "data": {
      "text/plain": [
       "(7, 5)"
      ]
     },
     "execution_count": 55,
     "metadata": {},
     "output_type": "execute_result"
    }
   ],
   "source": [
    "df.shape"
   ]
  },
  {
   "cell_type": "markdown",
   "id": "d5c30c36",
   "metadata": {},
   "source": [
    "## df.columns"
   ]
  },
  {
   "cell_type": "markdown",
   "id": "dd142d32",
   "metadata": {},
   "source": [
    "Con esto podemos acceder a las columnas y a su vez modificarlas"
   ]
  },
  {
   "cell_type": "code",
   "execution_count": 58,
   "id": "5cbfb276",
   "metadata": {},
   "outputs": [
    {
     "data": {
      "text/html": [
       "<div>\n",
       "<style scoped>\n",
       "    .dataframe tbody tr th:only-of-type {\n",
       "        vertical-align: middle;\n",
       "    }\n",
       "\n",
       "    .dataframe tbody tr th {\n",
       "        vertical-align: top;\n",
       "    }\n",
       "\n",
       "    .dataframe thead th {\n",
       "        text-align: right;\n",
       "    }\n",
       "</style>\n",
       "<table border=\"1\" class=\"dataframe\">\n",
       "  <thead>\n",
       "    <tr style=\"text-align: right;\">\n",
       "      <th></th>\n",
       "      <th>nombre</th>\n",
       "      <th>especialidad</th>\n",
       "      <th>viejo</th>\n",
       "      <th>visitas</th>\n",
       "      <th>sexo</th>\n",
       "    </tr>\n",
       "  </thead>\n",
       "  <tbody>\n",
       "    <tr>\n",
       "      <th>3</th>\n",
       "      <td>Bettatech</td>\n",
       "      <td>Programación</td>\n",
       "      <td>31</td>\n",
       "      <td>149462</td>\n",
       "      <td>H</td>\n",
       "    </tr>\n",
       "  </tbody>\n",
       "</table>\n",
       "</div>"
      ],
      "text/plain": [
       "      nombre  especialidad  viejo  visitas sexo\n",
       "3  Bettatech  Programación     31   149462    H"
      ]
     },
     "execution_count": 58,
     "metadata": {},
     "output_type": "execute_result"
    }
   ],
   "source": [
    "df.sample()"
   ]
  },
  {
   "cell_type": "code",
   "execution_count": 57,
   "id": "f5dcb914",
   "metadata": {},
   "outputs": [],
   "source": [
    "df.columns = [\"nombre\", \"especialidad\", \"viejo\", \"visitas\", \"sexo\"]\n",
    "#aquí cambiamos la columna edad por viejo\n",
    "#Recuerda quitar las columnas que no te sirvan, o terminará saliendote error por no coincidir el tamaño"
   ]
  },
  {
   "cell_type": "code",
   "execution_count": 59,
   "id": "6726f182",
   "metadata": {},
   "outputs": [],
   "source": [
    "df.columns = [\"nombre\", \"especialidad\", \"edad\", \"visitas\", \"sexo\"]"
   ]
  },
  {
   "cell_type": "code",
   "execution_count": 60,
   "id": "765623e1",
   "metadata": {},
   "outputs": [
    {
     "data": {
      "text/plain": [
       "Index(['nombre', 'especialidad', 'edad', 'visitas', 'sexo'], dtype='object')"
      ]
     },
     "execution_count": 60,
     "metadata": {},
     "output_type": "execute_result"
    }
   ],
   "source": [
    "df.columns"
   ]
  },
  {
   "cell_type": "markdown",
   "id": "0c181a70",
   "metadata": {},
   "source": [
    "## df.index"
   ]
  },
  {
   "cell_type": "code",
   "execution_count": 62,
   "id": "dc55387d",
   "metadata": {},
   "outputs": [
    {
     "data": {
      "text/plain": [
       "Int64Index([0, 1, 2, 3, 4, 5, 6], dtype='int64')"
      ]
     },
     "execution_count": 62,
     "metadata": {},
     "output_type": "execute_result"
    }
   ],
   "source": [
    "df.index"
   ]
  },
  {
   "cell_type": "markdown",
   "id": "d27665c3",
   "metadata": {},
   "source": [
    "# Selección de elementos (Subset)"
   ]
  },
  {
   "cell_type": "markdown",
   "id": "72ed506c",
   "metadata": {},
   "source": [
    "## Acceso mediante etiquetas"
   ]
  },
  {
   "cell_type": "code",
   "execution_count": 63,
   "id": "bdf58f07",
   "metadata": {},
   "outputs": [
    {
     "data": {
      "text/html": [
       "<div>\n",
       "<style scoped>\n",
       "    .dataframe tbody tr th:only-of-type {\n",
       "        vertical-align: middle;\n",
       "    }\n",
       "\n",
       "    .dataframe tbody tr th {\n",
       "        vertical-align: top;\n",
       "    }\n",
       "\n",
       "    .dataframe thead th {\n",
       "        text-align: right;\n",
       "    }\n",
       "</style>\n",
       "<table border=\"1\" class=\"dataframe\">\n",
       "  <thead>\n",
       "    <tr style=\"text-align: right;\">\n",
       "      <th></th>\n",
       "      <th>nombre</th>\n",
       "      <th>especialidad</th>\n",
       "      <th>edad</th>\n",
       "      <th>visitas</th>\n",
       "      <th>sexo</th>\n",
       "    </tr>\n",
       "  </thead>\n",
       "  <tbody>\n",
       "    <tr>\n",
       "      <th>0</th>\n",
       "      <td>SFDX Show</td>\n",
       "      <td>Hardware</td>\n",
       "      <td>30</td>\n",
       "      <td>130855</td>\n",
       "      <td>H</td>\n",
       "    </tr>\n",
       "    <tr>\n",
       "      <th>1</th>\n",
       "      <td>Sara Nogark</td>\n",
       "      <td>Edición de vídeo</td>\n",
       "      <td>29</td>\n",
       "      <td>114175</td>\n",
       "      <td>M</td>\n",
       "    </tr>\n",
       "    <tr>\n",
       "      <th>2</th>\n",
       "      <td>Nate Gentile</td>\n",
       "      <td>Programación</td>\n",
       "      <td>31</td>\n",
       "      <td>142545</td>\n",
       "      <td>H</td>\n",
       "    </tr>\n",
       "    <tr>\n",
       "      <th>3</th>\n",
       "      <td>Bettatech</td>\n",
       "      <td>Programación</td>\n",
       "      <td>31</td>\n",
       "      <td>149462</td>\n",
       "      <td>H</td>\n",
       "    </tr>\n",
       "    <tr>\n",
       "      <th>4</th>\n",
       "      <td>Antonio Sarosi</td>\n",
       "      <td>Sistemas Operativos</td>\n",
       "      <td>28</td>\n",
       "      <td>132008</td>\n",
       "      <td>H</td>\n",
       "    </tr>\n",
       "  </tbody>\n",
       "</table>\n",
       "</div>"
      ],
      "text/plain": [
       "           nombre         especialidad  edad  visitas sexo\n",
       "0       SFDX Show             Hardware    30   130855    H\n",
       "1     Sara Nogark     Edición de vídeo    29   114175    M\n",
       "2    Nate Gentile         Programación    31   142545    H\n",
       "3       Bettatech         Programación    31   149462    H\n",
       "4  Antonio Sarosi  Sistemas Operativos    28   132008    H"
      ]
     },
     "execution_count": 63,
     "metadata": {},
     "output_type": "execute_result"
    }
   ],
   "source": [
    "df.head()"
   ]
  },
  {
   "cell_type": "markdown",
   "id": "b57b7681",
   "metadata": {},
   "source": [
    "Queremos saber la especialidad de Nate, ¿cómo le haríamos?"
   ]
  },
  {
   "cell_type": "code",
   "execution_count": 65,
   "id": "e79a1afa",
   "metadata": {},
   "outputs": [
    {
     "data": {
      "text/plain": [
       "'Programación'"
      ]
     },
     "execution_count": 65,
     "metadata": {},
     "output_type": "execute_result"
    }
   ],
   "source": [
    "df[\"especialidad\"][2]"
   ]
  },
  {
   "cell_type": "markdown",
   "id": "9c47db41",
   "metadata": {},
   "source": [
    "Bien, pero esto es suponiendo que sabemos el indice, pero si tenemos un data frame de muuuchas filas, habrá de hacer otra cosa, por ejemplo: "
   ]
  },
  {
   "cell_type": "code",
   "execution_count": 66,
   "id": "bd6276af",
   "metadata": {},
   "outputs": [
    {
     "data": {
      "text/plain": [
       "0    False\n",
       "1    False\n",
       "2     True\n",
       "3    False\n",
       "4    False\n",
       "5    False\n",
       "6    False\n",
       "Name: nombre, dtype: bool"
      ]
     },
     "execution_count": 66,
     "metadata": {},
     "output_type": "execute_result"
    }
   ],
   "source": [
    "df[\"nombre\"] == \"Nate Gentile\" #Bien, con esto sabes como encontrar el indice"
   ]
  },
  {
   "cell_type": "code",
   "execution_count": 67,
   "id": "3f490a45",
   "metadata": {},
   "outputs": [
    {
     "data": {
      "text/html": [
       "<div>\n",
       "<style scoped>\n",
       "    .dataframe tbody tr th:only-of-type {\n",
       "        vertical-align: middle;\n",
       "    }\n",
       "\n",
       "    .dataframe tbody tr th {\n",
       "        vertical-align: top;\n",
       "    }\n",
       "\n",
       "    .dataframe thead th {\n",
       "        text-align: right;\n",
       "    }\n",
       "</style>\n",
       "<table border=\"1\" class=\"dataframe\">\n",
       "  <thead>\n",
       "    <tr style=\"text-align: right;\">\n",
       "      <th></th>\n",
       "      <th>nombre</th>\n",
       "      <th>especialidad</th>\n",
       "      <th>edad</th>\n",
       "      <th>visitas</th>\n",
       "      <th>sexo</th>\n",
       "    </tr>\n",
       "  </thead>\n",
       "  <tbody>\n",
       "    <tr>\n",
       "      <th>2</th>\n",
       "      <td>Nate Gentile</td>\n",
       "      <td>Programación</td>\n",
       "      <td>31</td>\n",
       "      <td>142545</td>\n",
       "      <td>H</td>\n",
       "    </tr>\n",
       "  </tbody>\n",
       "</table>\n",
       "</div>"
      ],
      "text/plain": [
       "         nombre  especialidad  edad  visitas sexo\n",
       "2  Nate Gentile  Programación    31   142545    H"
      ]
     },
     "execution_count": 67,
     "metadata": {},
     "output_type": "execute_result"
    }
   ],
   "source": [
    "df[df[\"nombre\"] == \"Nate Gentile\"] #Aquí ya estamos trayendo el df que cumple con el requisito"
   ]
  },
  {
   "cell_type": "code",
   "execution_count": 71,
   "id": "f3e405de",
   "metadata": {},
   "outputs": [
    {
     "data": {
      "text/plain": [
       "2    Programación\n",
       "Name: especialidad, dtype: object"
      ]
     },
     "execution_count": 71,
     "metadata": {},
     "output_type": "execute_result"
    }
   ],
   "source": [
    "df[ df[\"nombre\"] == \"Nate Gentile\"] [\"especialidad\"] #Aquí solo lo que busco"
   ]
  },
  {
   "cell_type": "markdown",
   "id": "5d17fe98",
   "metadata": {},
   "source": [
    "Aquí más ejemplos de cómo jalaría"
   ]
  },
  {
   "cell_type": "code",
   "execution_count": 72,
   "id": "c8ecbcc5",
   "metadata": {},
   "outputs": [
    {
     "data": {
      "text/html": [
       "<div>\n",
       "<style scoped>\n",
       "    .dataframe tbody tr th:only-of-type {\n",
       "        vertical-align: middle;\n",
       "    }\n",
       "\n",
       "    .dataframe tbody tr th {\n",
       "        vertical-align: top;\n",
       "    }\n",
       "\n",
       "    .dataframe thead th {\n",
       "        text-align: right;\n",
       "    }\n",
       "</style>\n",
       "<table border=\"1\" class=\"dataframe\">\n",
       "  <thead>\n",
       "    <tr style=\"text-align: right;\">\n",
       "      <th></th>\n",
       "      <th>nombre</th>\n",
       "      <th>especialidad</th>\n",
       "      <th>edad</th>\n",
       "      <th>visitas</th>\n",
       "      <th>sexo</th>\n",
       "    </tr>\n",
       "  </thead>\n",
       "  <tbody>\n",
       "    <tr>\n",
       "      <th>1</th>\n",
       "      <td>Sara Nogark</td>\n",
       "      <td>Edición de vídeo</td>\n",
       "      <td>29</td>\n",
       "      <td>114175</td>\n",
       "      <td>M</td>\n",
       "    </tr>\n",
       "    <tr>\n",
       "      <th>5</th>\n",
       "      <td>Edgar Pons</td>\n",
       "      <td>Robótica</td>\n",
       "      <td>29</td>\n",
       "      <td>143620</td>\n",
       "      <td>H</td>\n",
       "    </tr>\n",
       "  </tbody>\n",
       "</table>\n",
       "</div>"
      ],
      "text/plain": [
       "        nombre      especialidad  edad  visitas sexo\n",
       "1  Sara Nogark  Edición de vídeo    29   114175    M\n",
       "5   Edgar Pons          Robótica    29   143620    H"
      ]
     },
     "execution_count": 72,
     "metadata": {},
     "output_type": "execute_result"
    }
   ],
   "source": [
    "df[ df[\"edad\"] == 29]"
   ]
  },
  {
   "cell_type": "code",
   "execution_count": 73,
   "id": "1b443ca3",
   "metadata": {},
   "outputs": [
    {
     "data": {
      "text/plain": [
       "1    Sara Nogark\n",
       "5     Edgar Pons\n",
       "Name: nombre, dtype: object"
      ]
     },
     "execution_count": 73,
     "metadata": {},
     "output_type": "execute_result"
    }
   ],
   "source": [
    "df[ df[\"edad\"] == 29] [\"nombre\"]"
   ]
  },
  {
   "cell_type": "markdown",
   "id": "0ce09c57",
   "metadata": {},
   "source": [
    "df[columna][fila]"
   ]
  },
  {
   "cell_type": "code",
   "execution_count": 79,
   "id": "150745b2",
   "metadata": {},
   "outputs": [],
   "source": [
    "mas_viejos = df[df[\"edad\"] == 31] [\"nombre\"]"
   ]
  },
  {
   "cell_type": "code",
   "execution_count": 80,
   "id": "a9fa2cc8",
   "metadata": {},
   "outputs": [
    {
     "data": {
      "text/plain": [
       "2    Nate Gentile\n",
       "3       Bettatech\n",
       "Name: nombre, dtype: object"
      ]
     },
     "execution_count": 80,
     "metadata": {},
     "output_type": "execute_result"
    }
   ],
   "source": [
    "mas_viejos"
   ]
  },
  {
   "cell_type": "markdown",
   "id": "4a50d1b1",
   "metadata": {},
   "source": [
    "## df.iloc[]"
   ]
  },
  {
   "cell_type": "markdown",
   "id": "2113a074",
   "metadata": {},
   "source": [
    "df.iloc[indice_fila,indice_columna]"
   ]
  },
  {
   "cell_type": "code",
   "execution_count": 6,
   "id": "4227a5b3",
   "metadata": {},
   "outputs": [
    {
     "data": {
      "text/html": [
       "<div>\n",
       "<style scoped>\n",
       "    .dataframe tbody tr th:only-of-type {\n",
       "        vertical-align: middle;\n",
       "    }\n",
       "\n",
       "    .dataframe tbody tr th {\n",
       "        vertical-align: top;\n",
       "    }\n",
       "\n",
       "    .dataframe thead th {\n",
       "        text-align: right;\n",
       "    }\n",
       "</style>\n",
       "<table border=\"1\" class=\"dataframe\">\n",
       "  <thead>\n",
       "    <tr style=\"text-align: right;\">\n",
       "      <th></th>\n",
       "      <th>nombre</th>\n",
       "      <th>especialidad</th>\n",
       "      <th>edad</th>\n",
       "      <th>visitas</th>\n",
       "      <th>sexo</th>\n",
       "    </tr>\n",
       "  </thead>\n",
       "  <tbody>\n",
       "    <tr>\n",
       "      <th>0</th>\n",
       "      <td>SFDX Show</td>\n",
       "      <td>Hardware</td>\n",
       "      <td>30</td>\n",
       "      <td>130855</td>\n",
       "      <td>H</td>\n",
       "    </tr>\n",
       "    <tr>\n",
       "      <th>1</th>\n",
       "      <td>Sara Nogark</td>\n",
       "      <td>Edición de vídeo</td>\n",
       "      <td>29</td>\n",
       "      <td>114175</td>\n",
       "      <td>M</td>\n",
       "    </tr>\n",
       "    <tr>\n",
       "      <th>2</th>\n",
       "      <td>Nate Gentile</td>\n",
       "      <td>Programación</td>\n",
       "      <td>31</td>\n",
       "      <td>142545</td>\n",
       "      <td>H</td>\n",
       "    </tr>\n",
       "    <tr>\n",
       "      <th>3</th>\n",
       "      <td>Bettatech</td>\n",
       "      <td>Programación</td>\n",
       "      <td>31</td>\n",
       "      <td>149462</td>\n",
       "      <td>H</td>\n",
       "    </tr>\n",
       "    <tr>\n",
       "      <th>4</th>\n",
       "      <td>Antonio Sarosi</td>\n",
       "      <td>Sistemas Operativos</td>\n",
       "      <td>28</td>\n",
       "      <td>132008</td>\n",
       "      <td>H</td>\n",
       "    </tr>\n",
       "  </tbody>\n",
       "</table>\n",
       "</div>"
      ],
      "text/plain": [
       "           nombre         especialidad  edad  visitas sexo\n",
       "0       SFDX Show             Hardware    30   130855    H\n",
       "1     Sara Nogark     Edición de vídeo    29   114175    M\n",
       "2    Nate Gentile         Programación    31   142545    H\n",
       "3       Bettatech         Programación    31   149462    H\n",
       "4  Antonio Sarosi  Sistemas Operativos    28   132008    H"
      ]
     },
     "execution_count": 6,
     "metadata": {},
     "output_type": "execute_result"
    }
   ],
   "source": [
    "df.head(5)"
   ]
  },
  {
   "cell_type": "code",
   "execution_count": 7,
   "id": "bcf2ded0",
   "metadata": {},
   "outputs": [
    {
     "data": {
      "text/plain": [
       "'SFDX Show'"
      ]
     },
     "execution_count": 7,
     "metadata": {},
     "output_type": "execute_result"
    }
   ],
   "source": [
    "df.iloc[0,0]"
   ]
  },
  {
   "cell_type": "code",
   "execution_count": 8,
   "id": "8d03e905",
   "metadata": {},
   "outputs": [
    {
     "data": {
      "text/plain": [
       "31"
      ]
     },
     "execution_count": 8,
     "metadata": {},
     "output_type": "execute_result"
    }
   ],
   "source": [
    "df.iloc[3,2]"
   ]
  },
  {
   "cell_type": "markdown",
   "id": "02252118",
   "metadata": {},
   "source": [
    "Aquí estamos iterando par poder pedir que nos traiga un rango de columnas de una misma fila"
   ]
  },
  {
   "cell_type": "code",
   "execution_count": 10,
   "id": "b5053cd7",
   "metadata": {},
   "outputs": [
    {
     "data": {
      "text/plain": [
       "nombre          Nate Gentile\n",
       "especialidad    Programación\n",
       "Name: 2, dtype: object"
      ]
     },
     "execution_count": 10,
     "metadata": {},
     "output_type": "execute_result"
    }
   ],
   "source": [
    "df.iloc[2,0:2]"
   ]
  },
  {
   "cell_type": "markdown",
   "id": "21731fdc",
   "metadata": {},
   "source": [
    "## df.loc"
   ]
  },
  {
   "cell_type": "markdown",
   "id": "a23df378",
   "metadata": {},
   "source": [
    "df.loc[etiqueta_indice, etiqueta_columna]"
   ]
  },
  {
   "cell_type": "markdown",
   "id": "12d546b2",
   "metadata": {},
   "source": [
    "Este se trata como un tipo hermano de iloc"
   ]
  },
  {
   "cell_type": "code",
   "execution_count": 13,
   "id": "0ee823ea",
   "metadata": {},
   "outputs": [
    {
     "data": {
      "text/html": [
       "<div>\n",
       "<style scoped>\n",
       "    .dataframe tbody tr th:only-of-type {\n",
       "        vertical-align: middle;\n",
       "    }\n",
       "\n",
       "    .dataframe tbody tr th {\n",
       "        vertical-align: top;\n",
       "    }\n",
       "\n",
       "    .dataframe thead th {\n",
       "        text-align: right;\n",
       "    }\n",
       "</style>\n",
       "<table border=\"1\" class=\"dataframe\">\n",
       "  <thead>\n",
       "    <tr style=\"text-align: right;\">\n",
       "      <th></th>\n",
       "      <th>nombre</th>\n",
       "      <th>especialidad</th>\n",
       "      <th>edad</th>\n",
       "      <th>visitas</th>\n",
       "      <th>sexo</th>\n",
       "    </tr>\n",
       "  </thead>\n",
       "  <tbody>\n",
       "    <tr>\n",
       "      <th>0</th>\n",
       "      <td>SFDX Show</td>\n",
       "      <td>Hardware</td>\n",
       "      <td>30</td>\n",
       "      <td>130855</td>\n",
       "      <td>H</td>\n",
       "    </tr>\n",
       "    <tr>\n",
       "      <th>1</th>\n",
       "      <td>Sara Nogark</td>\n",
       "      <td>Edición de vídeo</td>\n",
       "      <td>29</td>\n",
       "      <td>114175</td>\n",
       "      <td>M</td>\n",
       "    </tr>\n",
       "    <tr>\n",
       "      <th>2</th>\n",
       "      <td>Nate Gentile</td>\n",
       "      <td>Programación</td>\n",
       "      <td>31</td>\n",
       "      <td>142545</td>\n",
       "      <td>H</td>\n",
       "    </tr>\n",
       "    <tr>\n",
       "      <th>3</th>\n",
       "      <td>Bettatech</td>\n",
       "      <td>Programación</td>\n",
       "      <td>31</td>\n",
       "      <td>149462</td>\n",
       "      <td>H</td>\n",
       "    </tr>\n",
       "    <tr>\n",
       "      <th>4</th>\n",
       "      <td>Antonio Sarosi</td>\n",
       "      <td>Sistemas Operativos</td>\n",
       "      <td>28</td>\n",
       "      <td>132008</td>\n",
       "      <td>H</td>\n",
       "    </tr>\n",
       "  </tbody>\n",
       "</table>\n",
       "</div>"
      ],
      "text/plain": [
       "           nombre         especialidad  edad  visitas sexo\n",
       "0       SFDX Show             Hardware    30   130855    H\n",
       "1     Sara Nogark     Edición de vídeo    29   114175    M\n",
       "2    Nate Gentile         Programación    31   142545    H\n",
       "3       Bettatech         Programación    31   149462    H\n",
       "4  Antonio Sarosi  Sistemas Operativos    28   132008    H"
      ]
     },
     "execution_count": 13,
     "metadata": {},
     "output_type": "execute_result"
    }
   ],
   "source": [
    "df.head()"
   ]
  },
  {
   "cell_type": "code",
   "execution_count": 16,
   "id": "e4c739c7",
   "metadata": {},
   "outputs": [
    {
     "data": {
      "text/plain": [
       "'Programación'"
      ]
     },
     "execution_count": 16,
     "metadata": {},
     "output_type": "execute_result"
    }
   ],
   "source": [
    "df.loc[2, \"especialidad\"]"
   ]
  },
  {
   "cell_type": "markdown",
   "id": "6a45ea1c",
   "metadata": {},
   "source": [
    "aquí le estoy pidiendo el rango de lo que necesito"
   ]
  },
  {
   "cell_type": "code",
   "execution_count": 17,
   "id": "61100787",
   "metadata": {},
   "outputs": [
    {
     "data": {
      "text/plain": [
       "especialidad    Programación\n",
       "edad                      31\n",
       "visitas               142545\n",
       "Name: 2, dtype: object"
      ]
     },
     "execution_count": 17,
     "metadata": {},
     "output_type": "execute_result"
    }
   ],
   "source": [
    "df.loc[2, \"especialidad\":\"visitas\"]"
   ]
  },
  {
   "cell_type": "markdown",
   "id": "be093918",
   "metadata": {},
   "source": [
    "Si pones los 2 puntos pero no le dejas nada dicho, entenderá que quieres desde lo que marcaste inicio hasta el final"
   ]
  },
  {
   "cell_type": "code",
   "execution_count": 18,
   "id": "0577e6e2",
   "metadata": {},
   "outputs": [
    {
     "data": {
      "text/plain": [
       "especialidad    Programación\n",
       "edad                      31\n",
       "visitas               142545\n",
       "sexo                       H\n",
       "Name: 2, dtype: object"
      ]
     },
     "execution_count": 18,
     "metadata": {},
     "output_type": "execute_result"
    }
   ],
   "source": [
    "df.loc[2, \"especialidad\":]"
   ]
  },
  {
   "cell_type": "markdown",
   "id": "4a5ebb37",
   "metadata": {},
   "source": [
    "De igual manera al revés, si poner los dos puntos sin nada y luego el final, te traerá desde el principio hasta ese limite"
   ]
  },
  {
   "cell_type": "code",
   "execution_count": 19,
   "id": "3914bca4",
   "metadata": {},
   "outputs": [
    {
     "data": {
      "text/plain": [
       "nombre          Nate Gentile\n",
       "especialidad    Programación\n",
       "edad                      31\n",
       "Name: 2, dtype: object"
      ]
     },
     "execution_count": 19,
     "metadata": {},
     "output_type": "execute_result"
    }
   ],
   "source": [
    "df.loc[2, : \"edad\"]"
   ]
  },
  {
   "cell_type": "markdown",
   "id": "892cd820",
   "metadata": {},
   "source": [
    "Aquí estamos comparando si estamos realizando lo mismo y en efecto, es lo mismo"
   ]
  },
  {
   "cell_type": "code",
   "execution_count": 20,
   "id": "5364db6e",
   "metadata": {},
   "outputs": [
    {
     "data": {
      "text/plain": [
       "nombre          True\n",
       "especialidad    True\n",
       "Name: 2, dtype: bool"
      ]
     },
     "execution_count": 20,
     "metadata": {},
     "output_type": "execute_result"
    }
   ],
   "source": [
    "df.iloc[2,0:2] == df.loc[2, \"nombre\" : \"especialidad\"]"
   ]
  }
 ],
 "metadata": {
  "kernelspec": {
   "display_name": "Python 3 (ipykernel)",
   "language": "python",
   "name": "python3"
  },
  "language_info": {
   "codemirror_mode": {
    "name": "ipython",
    "version": 3
   },
   "file_extension": ".py",
   "mimetype": "text/x-python",
   "name": "python",
   "nbconvert_exporter": "python",
   "pygments_lexer": "ipython3",
   "version": "3.9.12"
  },
  "toc": {
   "base_numbering": 1,
   "nav_menu": {},
   "number_sections": true,
   "sideBar": true,
   "skip_h1_title": false,
   "title_cell": "Table of Contents",
   "title_sidebar": "Contents",
   "toc_cell": false,
   "toc_position": {
    "height": "calc(100% - 180px)",
    "left": "10px",
    "top": "150px",
    "width": "216px"
   },
   "toc_section_display": true,
   "toc_window_display": false
  }
 },
 "nbformat": 4,
 "nbformat_minor": 5
}
