{
 "cells": [
  {
   "cell_type": "markdown",
   "id": "c6e349c4",
   "metadata": {},
   "source": [
    "## Usando Markdown en Juypyternotebook"
   ]
  },
  {
   "cell_type": "markdown",
   "id": "229529ea",
   "metadata": {},
   "source": [
    "<-- Puede darle click a la parte de la izquierda fuera del código, para poder hacer acciones con el teclado, por ejemplo para hacer esta linea \"markdown\" , lo que hice fue dar click ahí y presionar la tecla \"m\"\n",
    "\n"
   ]
  },
  {
   "cell_type": "code",
   "execution_count": null,
   "id": "a6bbff2d",
   "metadata": {},
   "outputs": [],
   "source": []
  },
  {
   "cell_type": "markdown",
   "id": "5abc9dc9",
   "metadata": {},
   "source": [
    "Ahora dirás, ¿a caray? porqué tienes un espacio arriba y abajo demás?, bueno eso es porque dando click\n",
    "en el mismo espacio pero presionando la tecla \"a\" pones una línea arriba, y con la \"b\" pones uno abajo"
   ]
  },
  {
   "cell_type": "code",
   "execution_count": null,
   "id": "77512066",
   "metadata": {},
   "outputs": [],
   "source": []
  },
  {
   "cell_type": "markdown",
   "id": "6e421b4f",
   "metadata": {},
   "source": [
    "También lo que puedes realizar, es dar click donde mismo y presionar 2 veces la tecla \"d\" para eliminar\n",
    "una línea"
   ]
  },
  {
   "cell_type": "code",
   "execution_count": 7,
   "id": "8d722c9f",
   "metadata": {
    "solution2": "shown",
    "solution2_first": true
   },
   "outputs": [
    {
     "data": {
      "text/plain": [
       "8"
      ]
     },
     "execution_count": 7,
     "metadata": {},
     "output_type": "execute_result"
    }
   ],
   "source": [
    "4 + 4 #Esto muestra un hide solution, está perron"
   ]
  },
  {
   "cell_type": "markdown",
   "id": "d480e3c9",
   "metadata": {},
   "source": [
    "# Titulo"
   ]
  },
  {
   "cell_type": "markdown",
   "id": "4cbca2b9",
   "metadata": {},
   "source": [
    "## subtitulo"
   ]
  },
  {
   "cell_type": "markdown",
   "id": "95ee77fd",
   "metadata": {},
   "source": [
    "Incrible, ¿viste? podemos separar por titulos y mostrar en la izquierda los titulos y subtitulos anidados"
   ]
  },
  {
   "cell_type": "markdown",
   "id": "845a8ca6",
   "metadata": {},
   "source": [
    "## Texto "
   ]
  },
  {
   "cell_type": "markdown",
   "id": "4259a914",
   "metadata": {},
   "source": [
    "**Texto en negrita**\n",
    "esto se logra con 2 astericsos en principio y fin"
   ]
  },
  {
   "cell_type": "markdown",
   "id": "36e3f6dc",
   "metadata": {},
   "source": [
    "*Texto en cursiva* Esto se logra con un solo asterisco en principio y fin"
   ]
  },
  {
   "cell_type": "markdown",
   "id": "b4095574",
   "metadata": {},
   "source": [
    "formato para indicar código son apostrofes pero no los puedo poner jaja :( "
   ]
  },
  {
   "cell_type": "markdown",
   "id": "92e66082",
   "metadata": {},
   "source": [
    "Citas, para ponerlos así es con el signo de mayor que\n",
    "\n",
    "> Escribiendo este operador mayor que, tenemos un bloquote"
   ]
  },
  {
   "cell_type": "markdown",
   "id": "2aad4108",
   "metadata": {},
   "source": [
    "Listas ordenadas poniendo numero y punto\n",
    "1. Perros\n",
    "2. Gatos\n",
    "\n",
    "Podemos separarlas si ponemos 3 guiones debajo \"---\"\n",
    "\n",
    "---\n",
    "\n",
    "- Perros\n",
    "- Gatos"
   ]
  },
  {
   "cell_type": "markdown",
   "id": "8b2473b4",
   "metadata": {},
   "source": [
    "Comprimir un link con un titulo haciendo lo siguiente [Titulo entre corchetes](link entre parentesis)\n"
   ]
  },
  {
   "cell_type": "markdown",
   "id": "3e62247b",
   "metadata": {},
   "source": [
    "[Aquí hay un link](https://www.mastermind.ac)"
   ]
  },
  {
   "cell_type": "markdown",
   "id": "ee872adf",
   "metadata": {},
   "source": [
    "Si ponemos un \"!\" al principio del todo, indicamos que el link es una imagen de a buevo"
   ]
  },
  {
   "cell_type": "markdown",
   "id": "ba9ebf9c",
   "metadata": {},
   "source": [
    "Si presionas la tecla \"2\" en el edit de la izquierda, haces automaticamente un titulo nivel 2"
   ]
  },
  {
   "cell_type": "code",
   "execution_count": null,
   "id": "674f07e5",
   "metadata": {},
   "outputs": [],
   "source": []
  }
 ],
 "metadata": {
  "kernelspec": {
   "display_name": "Python 3 (ipykernel)",
   "language": "python",
   "name": "python3"
  },
  "language_info": {
   "codemirror_mode": {
    "name": "ipython",
    "version": 3
   },
   "file_extension": ".py",
   "mimetype": "text/x-python",
   "name": "python",
   "nbconvert_exporter": "python",
   "pygments_lexer": "ipython3",
   "version": "3.9.12"
  },
  "toc": {
   "base_numbering": 1,
   "nav_menu": {},
   "number_sections": true,
   "sideBar": true,
   "skip_h1_title": false,
   "title_cell": "Table of Contents",
   "title_sidebar": "Contents",
   "toc_cell": false,
   "toc_position": {},
   "toc_section_display": true,
   "toc_window_display": false
  }
 },
 "nbformat": 4,
 "nbformat_minor": 5
}
