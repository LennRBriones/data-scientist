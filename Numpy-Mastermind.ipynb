{
 "cells": [
  {
   "cell_type": "code",
   "execution_count": 1,
   "id": "0d22412e",
   "metadata": {},
   "outputs": [],
   "source": [
    "import numpy as np #numpy nos ayudará con computación numerica"
   ]
  },
  {
   "cell_type": "code",
   "execution_count": 2,
   "id": "5a200d6a",
   "metadata": {},
   "outputs": [
    {
     "data": {
      "text/plain": [
       "5.0"
      ]
     },
     "execution_count": 2,
     "metadata": {},
     "output_type": "execute_result"
    }
   ],
   "source": [
    "np.sqrt(25)"
   ]
  },
  {
   "cell_type": "markdown",
   "id": "4e93dc73",
   "metadata": {},
   "source": [
    "# Arrays"
   ]
  },
  {
   "cell_type": "markdown",
   "id": "390fa301",
   "metadata": {},
   "source": [
    "## np.array()"
   ]
  },
  {
   "cell_type": "code",
   "execution_count": 3,
   "id": "14f4ac3b",
   "metadata": {},
   "outputs": [
    {
     "data": {
      "text/plain": [
       "list"
      ]
     },
     "execution_count": 3,
     "metadata": {},
     "output_type": "execute_result"
    }
   ],
   "source": [
    "a = [0, 1, 2, 3, 4, 5]\n",
    "\n",
    "type(a)"
   ]
  },
  {
   "cell_type": "code",
   "execution_count": 4,
   "id": "b2f119c7",
   "metadata": {},
   "outputs": [
    {
     "data": {
      "text/plain": [
       "numpy.ndarray"
      ]
     },
     "execution_count": 4,
     "metadata": {},
     "output_type": "execute_result"
    }
   ],
   "source": [
    "type(np.array(a))"
   ]
  },
  {
   "cell_type": "markdown",
   "id": "19663efd",
   "metadata": {},
   "source": [
    "## np.arange()"
   ]
  },
  {
   "cell_type": "code",
   "execution_count": 6,
   "id": "46ffea60",
   "metadata": {},
   "outputs": [
    {
     "name": "stdout",
     "output_type": "stream",
     "text": [
      "[ 4  6  8 10 12 14 16 18 20 22]\n"
     ]
    }
   ],
   "source": [
    "b = np.arange(4, 24, 2) #Imprimo de dos en dos puesto que eso me lo indica al final\n",
    "                        #pero empezando con 4 y limite 24 \n",
    "print(b)"
   ]
  },
  {
   "cell_type": "markdown",
   "id": "7db15cef",
   "metadata": {},
   "source": [
    "## np.linspace()"
   ]
  },
  {
   "cell_type": "code",
   "execution_count": 13,
   "id": "bc77f1b2",
   "metadata": {},
   "outputs": [
    {
     "name": "stdout",
     "output_type": "stream",
     "text": [
      "[  1.          27.26315789  53.52631579  79.78947368 106.05263158\n",
      " 132.31578947 158.57894737 184.84210526 211.10526316 237.36842105\n",
      " 263.63157895 289.89473684 316.15789474 342.42105263 368.68421053\n",
      " 394.94736842 421.21052632 447.47368421 473.73684211 500.        ]\n"
     ]
    }
   ],
   "source": [
    "c = np.linspace(1, 500, 20) #Te genera en espacios iguales los numero dependiendo del limite\n",
    "\n",
    "print(c)"
   ]
  },
  {
   "cell_type": "markdown",
   "id": "32f1560d",
   "metadata": {},
   "source": [
    "## np.zeros()"
   ]
  },
  {
   "cell_type": "code",
   "execution_count": 14,
   "id": "f78151a4",
   "metadata": {},
   "outputs": [
    {
     "name": "stdout",
     "output_type": "stream",
     "text": [
      "[0. 0. 0. 0. 0. 0. 0. 0. 0. 0. 0. 0. 0. 0. 0. 0. 0. 0. 0. 0. 0. 0. 0. 0.\n",
      " 0. 0. 0. 0. 0. 0. 0. 0. 0. 0. 0. 0. 0. 0. 0. 0. 0. 0. 0. 0. 0. 0. 0. 0.\n",
      " 0. 0.]\n"
     ]
    }
   ],
   "source": [
    "d = np.zeros(50) # practicamente imprime la cantidad de ceros\n",
    "\n",
    "print (d)"
   ]
  },
  {
   "cell_type": "markdown",
   "id": "aee6a1f0",
   "metadata": {},
   "source": [
    "## np.ones()"
   ]
  },
  {
   "cell_type": "code",
   "execution_count": 16,
   "id": "10491930",
   "metadata": {},
   "outputs": [
    {
     "name": "stdout",
     "output_type": "stream",
     "text": [
      "[1. 1. 1. 1. 1. 1. 1. 1. 1. 1. 1. 1. 1. 1. 1. 1. 1. 1. 1. 1. 1. 1. 1. 1.\n",
      " 1. 1. 1. 1. 1. 1. 1. 1. 1. 1. 1. 1. 1. 1. 1. 1. 1. 1. 1. 1. 1. 1. 1. 1.\n",
      " 1. 1.]\n"
     ]
    }
   ],
   "source": [
    "e = np.ones(50) \n",
    "\n",
    "print(e)"
   ]
  },
  {
   "cell_type": "markdown",
   "id": "73858736",
   "metadata": {},
   "source": [
    "# Dimensiones"
   ]
  },
  {
   "cell_type": "code",
   "execution_count": 17,
   "id": "ba9cef6f",
   "metadata": {},
   "outputs": [],
   "source": [
    "array_2d = np.array([d, e]) #me traigo 2 arrays para imprimirlos juntos"
   ]
  },
  {
   "cell_type": "code",
   "execution_count": 18,
   "id": "8f21ce7e",
   "metadata": {},
   "outputs": [
    {
     "name": "stdout",
     "output_type": "stream",
     "text": [
      "[[0. 0. 0. 0. 0. 0. 0. 0. 0. 0. 0. 0. 0. 0. 0. 0. 0. 0. 0. 0. 0. 0. 0. 0.\n",
      "  0. 0. 0. 0. 0. 0. 0. 0. 0. 0. 0. 0. 0. 0. 0. 0. 0. 0. 0. 0. 0. 0. 0. 0.\n",
      "  0. 0.]\n",
      " [1. 1. 1. 1. 1. 1. 1. 1. 1. 1. 1. 1. 1. 1. 1. 1. 1. 1. 1. 1. 1. 1. 1. 1.\n",
      "  1. 1. 1. 1. 1. 1. 1. 1. 1. 1. 1. 1. 1. 1. 1. 1. 1. 1. 1. 1. 1. 1. 1. 1.\n",
      "  1. 1.]]\n"
     ]
    }
   ],
   "source": [
    "print(array_2d)"
   ]
  },
  {
   "cell_type": "markdown",
   "id": "e59174f7",
   "metadata": {},
   "source": [
    "## array.shape"
   ]
  },
  {
   "cell_type": "code",
   "execution_count": 19,
   "id": "c51f37ce",
   "metadata": {},
   "outputs": [
    {
     "data": {
      "text/plain": [
       "(2, 50)"
      ]
     },
     "execution_count": 19,
     "metadata": {},
     "output_type": "execute_result"
    }
   ],
   "source": [
    "array_2d.shape ## Si das tab después del punto, te aparecen las opciones a elegir! :o\n",
    "               ## a sicierto, con este vemos su detalle de shape "
   ]
  },
  {
   "cell_type": "markdown",
   "id": "5d12b812",
   "metadata": {},
   "source": [
    "## array.size"
   ]
  },
  {
   "cell_type": "code",
   "execution_count": 20,
   "id": "7f12686c",
   "metadata": {},
   "outputs": [
    {
     "data": {
      "text/plain": [
       "100"
      ]
     },
     "execution_count": 20,
     "metadata": {},
     "output_type": "execute_result"
    }
   ],
   "source": [
    "array_2d.size #ver total de dimensiones"
   ]
  },
  {
   "cell_type": "markdown",
   "id": "ff0d341c",
   "metadata": {},
   "source": [
    "## array.ndim"
   ]
  },
  {
   "cell_type": "code",
   "execution_count": 21,
   "id": "b96389ab",
   "metadata": {},
   "outputs": [
    {
     "data": {
      "text/plain": [
       "2"
      ]
     },
     "execution_count": 21,
     "metadata": {},
     "output_type": "execute_result"
    }
   ],
   "source": [
    "array_2d.ndim #para ver dimensiones"
   ]
  },
  {
   "cell_type": "markdown",
   "id": "a3bf2569",
   "metadata": {},
   "source": [
    "## Operaciones con arrays"
   ]
  },
  {
   "cell_type": "code",
   "execution_count": 38,
   "id": "c00df872",
   "metadata": {},
   "outputs": [],
   "source": [
    "lista_1 = [1, 2, 3]\n",
    "lista_2 = [4, 5, 6]"
   ]
  },
  {
   "cell_type": "code",
   "execution_count": 39,
   "id": "3942f900",
   "metadata": {},
   "outputs": [],
   "source": [
    "array_1 = np.array(lista_1)\n",
    "array_2 = np.array(lista_2)"
   ]
  },
  {
   "cell_type": "code",
   "execution_count": 40,
   "id": "f240a877",
   "metadata": {},
   "outputs": [
    {
     "data": {
      "text/plain": [
       "[1, 2, 3, 4, 5, 6]"
      ]
     },
     "execution_count": 40,
     "metadata": {},
     "output_type": "execute_result"
    }
   ],
   "source": [
    "lista_1 + lista_2 #aquí sumamos las listas pero lo que hace es unirlas, por defecto \n",
    "                  #Python no te puede hacer sumas aritmeticas, pero numpy si con arrays"
   ]
  },
  {
   "cell_type": "code",
   "execution_count": 41,
   "id": "7c92b5f2",
   "metadata": {},
   "outputs": [
    {
     "data": {
      "text/plain": [
       "array([5, 7, 9])"
      ]
     },
     "execution_count": 41,
     "metadata": {},
     "output_type": "execute_result"
    }
   ],
   "source": [
    "array_1 + array_2 #Y este sería el meétodo"
   ]
  },
  {
   "cell_type": "code",
   "execution_count": 42,
   "id": "f0db33cd",
   "metadata": {},
   "outputs": [
    {
     "data": {
      "text/plain": [
       "array([ 4, 10, 18])"
      ]
     },
     "execution_count": 42,
     "metadata": {},
     "output_type": "execute_result"
    }
   ],
   "source": [
    "array_1 * array_2"
   ]
  },
  {
   "cell_type": "code",
   "execution_count": 43,
   "id": "3418f31b",
   "metadata": {},
   "outputs": [
    {
     "data": {
      "text/plain": [
       "[4, 10, 18]"
      ]
     },
     "execution_count": 43,
     "metadata": {},
     "output_type": "execute_result"
    }
   ],
   "source": [
    "#ahora lo mismo pero con el metodo arcaico y dificil, con list comprehensions\n",
    "[ num1*num2 for num1, num2 in zip(lista_1, lista_2)]"
   ]
  }
 ],
 "metadata": {
  "kernelspec": {
   "display_name": "Python 3 (ipykernel)",
   "language": "python",
   "name": "python3"
  },
  "language_info": {
   "codemirror_mode": {
    "name": "ipython",
    "version": 3
   },
   "file_extension": ".py",
   "mimetype": "text/x-python",
   "name": "python",
   "nbconvert_exporter": "python",
   "pygments_lexer": "ipython3",
   "version": "3.9.12"
  },
  "toc": {
   "base_numbering": 1,
   "nav_menu": {},
   "number_sections": true,
   "sideBar": true,
   "skip_h1_title": false,
   "title_cell": "Table of Contents",
   "title_sidebar": "Contents",
   "toc_cell": false,
   "toc_position": {},
   "toc_section_display": true,
   "toc_window_display": false
  }
 },
 "nbformat": 4,
 "nbformat_minor": 5
}
